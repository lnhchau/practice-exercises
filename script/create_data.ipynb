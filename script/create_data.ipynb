{
 "cells": [
  {
   "cell_type": "code",
   "execution_count": 105,
   "metadata": {},
   "outputs": [],
   "source": [
    "import pandas as pd\n",
    "date = \"15082023\"\n",
    "filename = r\"D:\\FSOFT\\IDX\\reviewed_data\\15082023_reviewed_data_5k.xlsx\"\n",
    "df_All = pd.read_excel(filename)"
   ]
  },
  {
   "cell_type": "code",
   "execution_count": 106,
   "metadata": {},
   "outputs": [
    {
     "data": {
      "text/plain": [
       "4909"
      ]
     },
     "execution_count": 106,
     "metadata": {},
     "output_type": "execute_result"
    }
   ],
   "source": [
    "len(df_All)"
   ]
  },
  {
   "cell_type": "code",
   "execution_count": 107,
   "metadata": {},
   "outputs": [
    {
     "data": {
      "text/plain": [
       "Index(['Request ID', 'Subject', 'Description', 'Category', 'Subcategory',\n",
       "       'Item', 'Applied Solutions', 'check_data', 'Note', 'cleaned_content',\n",
       "       'after_improve_prompt'],\n",
       "      dtype='object')"
      ]
     },
     "execution_count": 107,
     "metadata": {},
     "output_type": "execute_result"
    }
   ],
   "source": [
    "df_All.columns"
   ]
  },
  {
   "cell_type": "code",
   "execution_count": 108,
   "metadata": {},
   "outputs": [],
   "source": [
    "df_All[\"Applied Solutions\"] = df_All[\"Applied Solutions\"].astype(str)"
   ]
  },
  {
   "cell_type": "code",
   "execution_count": 109,
   "metadata": {},
   "outputs": [],
   "source": [
    "df_All[['Item']] = df_All[['Item']].fillna(value=\"Not found\")"
   ]
  },
  {
   "cell_type": "code",
   "execution_count": 110,
   "metadata": {},
   "outputs": [],
   "source": [
    "col_to_keep = ['Request ID', 'Category', 'Subcategory',\n",
    "       'Item', 'Applied Solutions',  'check_data', 'Note', \n",
    "       'cleaned_content',]\n",
    "       # 'cleaned_by_openai']"
   ]
  },
  {
   "cell_type": "code",
   "execution_count": 111,
   "metadata": {},
   "outputs": [
    {
     "data": {
      "text/html": [
       "<div>\n",
       "<style scoped>\n",
       "    .dataframe tbody tr th:only-of-type {\n",
       "        vertical-align: middle;\n",
       "    }\n",
       "\n",
       "    .dataframe tbody tr th {\n",
       "        vertical-align: top;\n",
       "    }\n",
       "\n",
       "    .dataframe thead th {\n",
       "        text-align: right;\n",
       "    }\n",
       "</style>\n",
       "<table border=\"1\" class=\"dataframe\">\n",
       "  <thead>\n",
       "    <tr style=\"text-align: right;\">\n",
       "      <th></th>\n",
       "      <th>Request ID</th>\n",
       "      <th>Category</th>\n",
       "      <th>Subcategory</th>\n",
       "      <th>Item</th>\n",
       "      <th>Applied Solutions</th>\n",
       "      <th>check_data</th>\n",
       "      <th>Note</th>\n",
       "      <th>cleaned_content</th>\n",
       "    </tr>\n",
       "  </thead>\n",
       "  <tbody>\n",
       "    <tr>\n",
       "      <th>0</th>\n",
       "      <td>2459648</td>\n",
       "      <td>Microsoft</td>\n",
       "      <td>Account</td>\n",
       "      <td>Disable Account</td>\n",
       "      <td>2665</td>\n",
       "      <td>OK</td>\n",
       "      <td>NaN</td>\n",
       "      <td>Re: Tài khoản NhanPA ko Login dc Office365\\nDe...</td>\n",
       "    </tr>\n",
       "    <tr>\n",
       "      <th>1</th>\n",
       "      <td>2459176</td>\n",
       "      <td>R&amp;D</td>\n",
       "      <td>Workplace</td>\n",
       "      <td>Active account Workplace</td>\n",
       "      <td>2782</td>\n",
       "      <td>OK</td>\n",
       "      <td>NaN</td>\n",
       "      <td>[Workchat] không đăng nhập được\\nDear IT,\\nNhờ...</td>\n",
       "    </tr>\n",
       "    <tr>\n",
       "      <th>2</th>\n",
       "      <td>2457995</td>\n",
       "      <td>System</td>\n",
       "      <td>VDI</td>\n",
       "      <td>Maintenance Mode</td>\n",
       "      <td>5250</td>\n",
       "      <td>OK</td>\n",
       "      <td>NaN</td>\n",
       "      <td># HI IT support team,Mình có nhận được mail th...</td>\n",
       "    </tr>\n",
       "    <tr>\n",
       "      <th>3</th>\n",
       "      <td>2461038</td>\n",
       "      <td>System</td>\n",
       "      <td>VDI</td>\n",
       "      <td>VDI Troubleshooting</td>\n",
       "      <td>1844</td>\n",
       "      <td>OK</td>\n",
       "      <td>Empty desc but valid subject</td>\n",
       "      <td>TriNV2 - Check lỗi VDI\\n</td>\n",
       "    </tr>\n",
       "    <tr>\n",
       "      <th>4</th>\n",
       "      <td>2457255</td>\n",
       "      <td>Microsoft</td>\n",
       "      <td>Account</td>\n",
       "      <td>Not found</td>\n",
       "      <td>3054</td>\n",
       "      <td>OK</td>\n",
       "      <td>NaN</td>\n",
       "      <td>[Support] hi IT.Support, mình mới thay đổi pas...</td>\n",
       "    </tr>\n",
       "  </tbody>\n",
       "</table>\n",
       "</div>"
      ],
      "text/plain": [
       "   Request ID   Category Subcategory                      Item  \\\n",
       "0     2459648  Microsoft     Account           Disable Account   \n",
       "1     2459176        R&D   Workplace  Active account Workplace   \n",
       "2     2457995     System         VDI          Maintenance Mode   \n",
       "3     2461038     System         VDI       VDI Troubleshooting   \n",
       "4     2457255  Microsoft     Account                 Not found   \n",
       "\n",
       "  Applied Solutions check_data                          Note  \\\n",
       "0              2665         OK                           NaN   \n",
       "1              2782         OK                           NaN   \n",
       "2              5250         OK                           NaN   \n",
       "3              1844         OK  Empty desc but valid subject   \n",
       "4              3054         OK                           NaN   \n",
       "\n",
       "                                     cleaned_content  \n",
       "0  Re: Tài khoản NhanPA ko Login dc Office365\\nDe...  \n",
       "1  [Workchat] không đăng nhập được\\nDear IT,\\nNhờ...  \n",
       "2  # HI IT support team,Mình có nhận được mail th...  \n",
       "3                           TriNV2 - Check lỗi VDI\\n  \n",
       "4  [Support] hi IT.Support, mình mới thay đổi pas...  "
      ]
     },
     "execution_count": 111,
     "metadata": {},
     "output_type": "execute_result"
    }
   ],
   "source": [
    "df = df_All[col_to_keep]\n",
    "df.head()"
   ]
  },
  {
   "cell_type": "code",
   "execution_count": 112,
   "metadata": {},
   "outputs": [
    {
     "data": {
      "text/plain": [
       "Request ID           False\n",
       "Category             False\n",
       "Subcategory          False\n",
       "Item                 False\n",
       "Applied Solutions    False\n",
       "check_data           False\n",
       "Note                  True\n",
       "cleaned_content      False\n",
       "dtype: bool"
      ]
     },
     "execution_count": 112,
     "metadata": {},
     "output_type": "execute_result"
    }
   ],
   "source": [
    "df.isna().any()"
   ]
  },
  {
   "cell_type": "code",
   "execution_count": 113,
   "metadata": {},
   "outputs": [],
   "source": [
    "df = df.applymap(lambda x: x.strip() if isinstance(x, str) else x)"
   ]
  },
  {
   "cell_type": "code",
   "execution_count": 114,
   "metadata": {},
   "outputs": [
    {
     "data": {
      "text/html": [
       "<div>\n",
       "<style scoped>\n",
       "    .dataframe tbody tr th:only-of-type {\n",
       "        vertical-align: middle;\n",
       "    }\n",
       "\n",
       "    .dataframe tbody tr th {\n",
       "        vertical-align: top;\n",
       "    }\n",
       "\n",
       "    .dataframe thead th {\n",
       "        text-align: right;\n",
       "    }\n",
       "</style>\n",
       "<table border=\"1\" class=\"dataframe\">\n",
       "  <thead>\n",
       "    <tr style=\"text-align: right;\">\n",
       "      <th></th>\n",
       "      <th>Request ID</th>\n",
       "      <th>Category</th>\n",
       "      <th>Subcategory</th>\n",
       "      <th>Item</th>\n",
       "      <th>Applied Solutions</th>\n",
       "      <th>check_data</th>\n",
       "      <th>Note</th>\n",
       "      <th>cleaned_content</th>\n",
       "    </tr>\n",
       "  </thead>\n",
       "  <tbody>\n",
       "    <tr>\n",
       "      <th>0</th>\n",
       "      <td>2459648</td>\n",
       "      <td>Microsoft</td>\n",
       "      <td>Account</td>\n",
       "      <td>Disable Account</td>\n",
       "      <td>2665</td>\n",
       "      <td>OK</td>\n",
       "      <td>NaN</td>\n",
       "      <td>Re: Tài khoản NhanPA ko Login dc Office365\\nDe...</td>\n",
       "    </tr>\n",
       "    <tr>\n",
       "      <th>1</th>\n",
       "      <td>2459176</td>\n",
       "      <td>R&amp;D</td>\n",
       "      <td>Workplace</td>\n",
       "      <td>Active account Workplace</td>\n",
       "      <td>2782</td>\n",
       "      <td>OK</td>\n",
       "      <td>NaN</td>\n",
       "      <td>[Workchat] không đăng nhập được\\nDear IT,\\nNhờ...</td>\n",
       "    </tr>\n",
       "    <tr>\n",
       "      <th>2</th>\n",
       "      <td>2457995</td>\n",
       "      <td>System</td>\n",
       "      <td>VDI</td>\n",
       "      <td>Maintenance Mode</td>\n",
       "      <td>5250</td>\n",
       "      <td>OK</td>\n",
       "      <td>NaN</td>\n",
       "      <td># HI IT support team,Mình có nhận được mail th...</td>\n",
       "    </tr>\n",
       "    <tr>\n",
       "      <th>3</th>\n",
       "      <td>2461038</td>\n",
       "      <td>System</td>\n",
       "      <td>VDI</td>\n",
       "      <td>VDI Troubleshooting</td>\n",
       "      <td>1844</td>\n",
       "      <td>OK</td>\n",
       "      <td>Empty desc but valid subject</td>\n",
       "      <td>TriNV2 - Check lỗi VDI</td>\n",
       "    </tr>\n",
       "    <tr>\n",
       "      <th>4</th>\n",
       "      <td>2457255</td>\n",
       "      <td>Microsoft</td>\n",
       "      <td>Account</td>\n",
       "      <td>Not found</td>\n",
       "      <td>3054</td>\n",
       "      <td>OK</td>\n",
       "      <td>NaN</td>\n",
       "      <td>[Support] hi IT.Support, mình mới thay đổi pas...</td>\n",
       "    </tr>\n",
       "    <tr>\n",
       "      <th>...</th>\n",
       "      <td>...</td>\n",
       "      <td>...</td>\n",
       "      <td>...</td>\n",
       "      <td>...</td>\n",
       "      <td>...</td>\n",
       "      <td>...</td>\n",
       "      <td>...</td>\n",
       "      <td>...</td>\n",
       "    </tr>\n",
       "    <tr>\n",
       "      <th>4904</th>\n",
       "      <td>2136383</td>\n",
       "      <td>Service Desk</td>\n",
       "      <td>Support</td>\n",
       "      <td>Enable USB</td>\n",
       "      <td>5399</td>\n",
       "      <td>OK</td>\n",
       "      <td>NaN</td>\n",
       "      <td>Dear IT, Mình muốn mở cổng USB cho PC tại F-Vi...</td>\n",
       "    </tr>\n",
       "    <tr>\n",
       "      <th>4905</th>\n",
       "      <td>2144625</td>\n",
       "      <td>Microsoft</td>\n",
       "      <td>Email</td>\n",
       "      <td>Not found</td>\n",
       "      <td>5509</td>\n",
       "      <td>OK</td>\n",
       "      <td>NaN</td>\n",
       "      <td># Dear IT,Outlook mình khi đăng nhập vào mình ...</td>\n",
       "    </tr>\n",
       "    <tr>\n",
       "      <th>4906</th>\n",
       "      <td>2135944</td>\n",
       "      <td>System</td>\n",
       "      <td>VDI</td>\n",
       "      <td>Not found</td>\n",
       "      <td>1559</td>\n",
       "      <td>OK</td>\n",
       "      <td>NaN</td>\n",
       "      <td>[Hotline] SonDV3 nhờ hỗ trợ cấp VDI Remote\\n- ...</td>\n",
       "    </tr>\n",
       "    <tr>\n",
       "      <th>4907</th>\n",
       "      <td>2133293</td>\n",
       "      <td>Network</td>\n",
       "      <td>Wireless</td>\n",
       "      <td>User chưa được đăng ký sử dụng WIFI</td>\n",
       "      <td>5400</td>\n",
       "      <td>OK</td>\n",
       "      <td>NaN</td>\n",
       "      <td>Truy cập vào mạng wifi FPT software\\nDear anh/...</td>\n",
       "    </tr>\n",
       "    <tr>\n",
       "      <th>4908</th>\n",
       "      <td>2134615</td>\n",
       "      <td>R&amp;D</td>\n",
       "      <td>Workplace</td>\n",
       "      <td>Active account Workplace</td>\n",
       "      <td>5288</td>\n",
       "      <td>OK</td>\n",
       "      <td>NaN</td>\n",
       "      <td>Lỗi đăng nhập Workchat place\\nXin chào anh/chị...</td>\n",
       "    </tr>\n",
       "  </tbody>\n",
       "</table>\n",
       "<p>4909 rows × 8 columns</p>\n",
       "</div>"
      ],
      "text/plain": [
       "      Request ID      Category Subcategory  \\\n",
       "0        2459648     Microsoft     Account   \n",
       "1        2459176           R&D   Workplace   \n",
       "2        2457995        System         VDI   \n",
       "3        2461038        System         VDI   \n",
       "4        2457255     Microsoft     Account   \n",
       "...          ...           ...         ...   \n",
       "4904     2136383  Service Desk     Support   \n",
       "4905     2144625     Microsoft       Email   \n",
       "4906     2135944        System         VDI   \n",
       "4907     2133293       Network    Wireless   \n",
       "4908     2134615           R&D   Workplace   \n",
       "\n",
       "                                     Item Applied Solutions check_data  \\\n",
       "0                         Disable Account              2665         OK   \n",
       "1                Active account Workplace              2782         OK   \n",
       "2                        Maintenance Mode              5250         OK   \n",
       "3                     VDI Troubleshooting              1844         OK   \n",
       "4                               Not found              3054         OK   \n",
       "...                                   ...               ...        ...   \n",
       "4904                           Enable USB              5399         OK   \n",
       "4905                            Not found              5509         OK   \n",
       "4906                            Not found              1559         OK   \n",
       "4907  User chưa được đăng ký sử dụng WIFI              5400         OK   \n",
       "4908             Active account Workplace              5288         OK   \n",
       "\n",
       "                              Note  \\\n",
       "0                              NaN   \n",
       "1                              NaN   \n",
       "2                              NaN   \n",
       "3     Empty desc but valid subject   \n",
       "4                              NaN   \n",
       "...                            ...   \n",
       "4904                           NaN   \n",
       "4905                           NaN   \n",
       "4906                           NaN   \n",
       "4907                           NaN   \n",
       "4908                           NaN   \n",
       "\n",
       "                                        cleaned_content  \n",
       "0     Re: Tài khoản NhanPA ko Login dc Office365\\nDe...  \n",
       "1     [Workchat] không đăng nhập được\\nDear IT,\\nNhờ...  \n",
       "2     # HI IT support team,Mình có nhận được mail th...  \n",
       "3                                TriNV2 - Check lỗi VDI  \n",
       "4     [Support] hi IT.Support, mình mới thay đổi pas...  \n",
       "...                                                 ...  \n",
       "4904  Dear IT, Mình muốn mở cổng USB cho PC tại F-Vi...  \n",
       "4905  # Dear IT,Outlook mình khi đăng nhập vào mình ...  \n",
       "4906  [Hotline] SonDV3 nhờ hỗ trợ cấp VDI Remote\\n- ...  \n",
       "4907  Truy cập vào mạng wifi FPT software\\nDear anh/...  \n",
       "4908  Lỗi đăng nhập Workchat place\\nXin chào anh/chị...  \n",
       "\n",
       "[4909 rows x 8 columns]"
      ]
     },
     "execution_count": 114,
     "metadata": {},
     "output_type": "execute_result"
    }
   ],
   "source": [
    "df"
   ]
  },
  {
   "cell_type": "code",
   "execution_count": 115,
   "metadata": {},
   "outputs": [],
   "source": [
    "df['label'] = df[['Category', 'Subcategory',\n",
    "       'Item', 'Applied Solutions']].agg('-'.join, axis=1)"
   ]
  },
  {
   "cell_type": "code",
   "execution_count": 116,
   "metadata": {},
   "outputs": [
    {
     "data": {
      "text/plain": [
       "0                  Microsoft-Account-Disable Account-2665\n",
       "1             R&D-Workplace-Active account Workplace-2782\n",
       "2                        System-VDI-Maintenance Mode-5250\n",
       "3                     System-VDI-VDI Troubleshooting-1844\n",
       "4                        Microsoft-Account-Not found-3054\n",
       "                              ...                        \n",
       "4904                 Service Desk-Support-Enable USB-5399\n",
       "4905                       Microsoft-Email-Not found-5509\n",
       "4906                            System-VDI-Not found-1559\n",
       "4907    Network-Wireless-User chưa được đăng ký sử dụn...\n",
       "4908          R&D-Workplace-Active account Workplace-5288\n",
       "Name: label, Length: 4909, dtype: object"
      ]
     },
     "execution_count": 116,
     "metadata": {},
     "output_type": "execute_result"
    }
   ],
   "source": [
    "df['label']"
   ]
  },
  {
   "cell_type": "code",
   "execution_count": 117,
   "metadata": {},
   "outputs": [
    {
     "data": {
      "text/plain": [
       "330"
      ]
     },
     "execution_count": 117,
     "metadata": {},
     "output_type": "execute_result"
    }
   ],
   "source": [
    "df['label'].nunique()"
   ]
  },
  {
   "cell_type": "code",
   "execution_count": 118,
   "metadata": {},
   "outputs": [
    {
     "data": {
      "text/plain": [
       "label\n",
       "Network-Wireless-Support-5814                                1234\n",
       "Microsoft-Account-Reset MFA O365-2437                         496\n",
       "Call Center-Support-Not found-1669                            264\n",
       "Microsoft-Account-Disable Account-2665                        248\n",
       "Microsoft-FPT Consolidate-Support-6508                        221\n",
       "                                                             ... \n",
       "Service Desk-Network-Wifi-2998                                  1\n",
       "Microsoft-Account-Not found-1828                                1\n",
       "Call Center-Support-Not found-6515                              1\n",
       "Network-Wireless-User chưa được đăng ký sử dụng WIFI-5508       1\n",
       "R&D-Workplace-Active account Workplace-5288                     1\n",
       "Name: count, Length: 330, dtype: int64"
      ]
     },
     "execution_count": 118,
     "metadata": {},
     "output_type": "execute_result"
    }
   ],
   "source": [
    "df['label'].value_counts()"
   ]
  },
  {
   "cell_type": "code",
   "execution_count": 119,
   "metadata": {},
   "outputs": [
    {
     "data": {
      "text/plain": [
       "dict_items([('Network-Wireless-Support-5814', 1234), ('Microsoft-Account-Reset MFA O365-2437', 496), ('Call Center-Support-Not found-1669', 264), ('Microsoft-Account-Disable Account-2665', 248), ('Microsoft-FPT Consolidate-Support-6508', 221), ('Microsoft-Account-Reset-1570', 218), ('System-VDI-Maintenance Mode-5250', 153), ('System-VDI-VDI Troubleshooting-1844', 145), ('Microsoft-FPT Consolidate-Support-6687', 106), ('System-VDI-Not found-3835', 86), ('System-VDI-VDI Troubleshooting-5642', 84), ('Network-Internet-Kết nối bị hạn chế-5398', 75), ('System-VDI-VDI Troubleshooting-1706', 70), ('System-VDI-Create VDI-1740', 63), ('Network-Wireless-Support-1826', 62), ('System-VDI-Maintenance Mode-5944', 61), ('System-VDI-Not found-1844', 56), ('Application-OneDrive-Truy cập Onedrive-6462', 55), ('Network-Internet-Kết nối bị hạn chế-5508', 42), ('Network-Wireless-Support-1484', 41), ('System-VDI-VDI Troubleshooting-6212', 40), ('System-VDI-Create VDI-6324', 39), ('System-VDI-VDI Troubleshooting-6527', 34), ('Service Desk-Network-Config port authen-6303', 33), ('System-VDI-VDI Troubleshooting-6229', 32), ('Application-OneDrive-Truy cập Onedrive-2869', 29), ('System-VDI-VDI Troubleshooting-6215', 27), ('Microsoft-Account-Not found-3054', 27), ('Network-Wireless-Support-5825', 21), ('System-VDI-Create VDI-6469', 21), ('Service Desk-Setup/Remove software-Install software-2446', 20), ('Microsoft-Account-Not found-1846', 20), ('Application-OneDrive-Truy cập Onedrive-680', 19), ('Service Desk-Network-Port Configuration-6303', 18), ('Service Desk-Network-Port Configuration-950', 15), ('System-VDI-Create VDI-5267', 14), ('Network-Internet-Khác-3090', 14), ('Service Desk-Network-Port Configuration-562', 13), ('Microsoft-Email-Not found-4437', 13), ('Service Desk-Network-Port Configuration-6424', 13), ('Service Desk-Support-Reset password-1570', 12), ('Service Desk-Network-Config port authen-6424', 12), ('Microsoft-Email-Not found-1656', 12), ('Service Desk-Support-Enable USB-5399', 12), ('Microsoft-FPT Consolidate-Application-6687', 12), ('Network-Internet-Kết nối bị hạn chế-1828', 11), ('Microsoft-FPT Consolidate-Not found-6508', 10), ('System-VDI-Not found-1706', 10), ('Network-Wireless-Hổng rule truy cập WLAN vào mạng Internet-5814', 9), ('Service Desk-Setup/Remove software-Install software-6364', 9), ('Microsoft-FPT Consolidate-Support-6520', 9), ('Network-Wireless-User chưa được đăng ký sử dụng WIFI-6515', 8), ('Service Desk-Support-Handover Asset-5508', 8), ('Network-Wireless-User chưa được đăng ký sử dụng WIFI-1826', 8), ('Application-OneDrive-Truy cập Onedrive-1828', 7), ('Microsoft-FPT Consolidate-O365 Migrate-6687', 7), ('System-VDI-Not found-6052', 7), ('Service Desk-Support-Config Outlook 365-4437', 7), ('System-VDI-Create VDI-5508', 7), ('System-VDI-VDI Troubleshooting-1828', 7), ('Service Desk-Setup/Remove software-Install software-5293', 7), ('Microsoft-Email-Create EMail Policy-798', 7), ('System-VDI-Not found-3006', 6), ('Microsoft-FPT Consolidate-Application-6508', 6), ('Microsoft-Email-Not found-798', 6), ('System-VDI-VDI Troubleshooting-3835', 6), ('Service Desk-Support-Config Outlook 365-5509', 6), ('System-VDI-VDI Troubleshooting-6304', 6), ('Microsoft-Troubleshooting-Email-4437', 5), ('Call Center-Support-Not found-2437', 5), ('Network-Wireless-User chưa được đăng ký sử dụng WIFI-5398', 5), ('Network-Wireless-Support-6515', 5), ('Service Desk-Support-Config Outlook 365-1828', 5), ('System-VDI-VDI Troubleshooting-3006', 5), ('R&D-Workplace-Active account Workplace-2782', 5), ('System-VDI-Create VDI-1844', 4), ('System-VDI-Create VDI-6527', 4), ('Service Desk-Setup/Remove software-Install software-6122', 4), ('Service Desk-Setup/Remove software-Install software-1433', 4), ('Security-PIM/PAM-Not found-5397', 4), ('System-VDI-Not found-1559', 4), ('Microsoft-Account-Not found-1827', 4), ('Service Desk-Setup/Remove software-Install software-6162', 4), ('Network-Wireless-Support-3039', 4), ('Network-Wireless-User chưa được đăng ký sử dụng WIFI-5814', 4), ('Service Desk-Support-Unlock account-3054', 4), ('Network-Wireless-Support-5374', 4), ('Network-Wireless-Support-2998', 4), ('System-VDI-VDI Troubleshooting-6242', 4), ('Service Desk-Support-Check account lock-1846', 4), ('Service Desk-Network-Proxy-1828', 4), ('System-VDI-Not found-1828', 4), ('Service Desk-Support-Enable USB-946', 3), ('System-VDI-Create VDI-2140', 3), ('Call Center-Support-Not found-5508', 3), ('Network-Wireless-Không xác thực được Wifi-3039', 3), ('Microsoft-FPT Consolidate-Helpdesk-6687', 3), ('Microsoft-Account-Re-Active-1828', 3), ('Application-GIT-Create GIT-6569', 3), ('System-VDI-Not found-5250', 3), ('Network-Wireless-User chưa được đăng ký sử dụng WIFI-3039', 3), ('Service Desk-Support-Download-1828', 3), ('Network-Wireless-User chưa được đăng ký sử dụng WIFI-5374', 3), ('Security-PIM/PAM-Not found-5508', 3), ('Application-OneDrive-Not found-2869', 3), ('Call Center-Support-Not found-3312', 3), ('Application-FileServer-Phân quyền File Server-5508', 3), ('Service Desk-Support-Check account lock-3054', 3), ('Service Desk-Network-Port Configuration-5508', 3), ('Microsoft-Account-Not found-1570', 3), ('System-VDI-VDI Troubleshooting-5511', 3), ('Service Desk-Support-Download-2446', 3), ('System-VDI-Not found-1740', 3), ('R&D-Workplace-Other-2782', 3), ('System-VDI-Not found-6324', 3), ('System-VDI-Not found-5513', 3), ('Network-Wireless-Support-5397', 3), ('Application-OneDrive-Not found-680', 3), ('Service Desk-Support-Check account lock-1828', 3), ('Service Desk-Support-Download-5508', 2), ('System-VDI-VDI Troubleshooting-5584', 2), ('Service Desk-Support-VDI-6527', 2), ('Service Desk-Support-Microsoft Team-5820', 2), ('Application-OneDrive-Truy cập Onedrive-6508', 2), ('Application-OneDrive-Phân quyền Onedrive-680', 2), ('Application-Website-Not found-1828', 2), ('Service Desk-Support-Microsoft Team-6122', 2), ('Microsoft-Troubleshooting-Teams-6687', 2), ('Network-Internet-Thiếu SSL certificate-1363', 2), ('Microsoft-Email-Create EMail Policy-1656', 2), ('Service Desk-Support-Check Services-874', 2), ('Application-OneDrive-Not found-6462', 2), ('Service Desk-Support-Config Outlook 365-880', 2), ('Network-Internet-Client cấu hình proxy sai-6566', 2), ('Network-Wireless-Không xác thực được Wifi-5814', 2), ('System-VDI-Not found-2446', 2), ('Network-Wireless-User chưa được đăng ký sử dụng WIFI-6530', 2), ('Service Desk-Setup/Remove software-Install software-1828', 2), ('Microsoft-FPT Consolidate-Support-5814', 2), ('Network-Internet-Client chưa bypass proxy-6566', 2), ('Service Desk-Support-Config Outlook 365-3045', 2), ('System-VDI-Create VDI-1559', 2), ('Service Desk-Support-Microsoft Team-3974', 2), ('Microsoft-Account-Reset-1828', 2), ('System-VDI-Not found-6229', 2), ('System-VDI-Create VDI-5944', 2), ('System-VDI-Remove VDI-1844', 2), ('Application-FileServer-Phân quyền File Server-6445', 2), ('Service Desk-Support-Check account lock-1604', 2), ('Microsoft-Troubleshooting-Teams-6121', 2), ('Microsoft-Troubleshooting-Teams-6209', 2), ('Microsoft-Email-Not found-880', 2), ('System-VDI-Not found-6215', 2), ('Service Desk-Support-Check account lock-1827', 2), ('System-VDI-VDI Troubleshooting-5705', 2), ('System-VDI-Create VDI-5397', 2), ('System-VDI-Not found-6527', 2), ('System-VDI-Not found-6303', 1), ('Microsoft-Account-Not found-3581', 1), ('Network-Wireless-User chưa được đăng ký sử dụng WIFI-5400', 1), ('Network-Wireless-Not found-5814', 1), ('Service Desk-Support-Check Services-4728', 1), ('Application-ESS-Not found-2653', 1), ('Service Desk-Support-Config Outlook 365-5778', 1), ('Network-Wireless-Not found-3039', 1), ('Microsoft-Email-Not found-5509', 1), ('Service Desk-Support-Microsoft Team-4437', 1), ('Service Desk-Support-Check Services-3054', 1), ('Network-LAN-Support-5508', 1), ('Microsoft-Email-Create EMail Policy-5508', 1), ('Network-Wireless-Support-1669', 1), ('Application-SVN-Not found-5508', 1), ('Service Desk-Support-Not found-3054', 1), ('Network-Wireless-User chưa được đăng ký sử dụng WIFI-2423', 1), ('Service Desk-Support-Microsoft Team-5814', 1), ('Microsoft-FPT Consolidate-Support-1570', 1), ('Microsoft-Troubleshooting-Teams-698', 1), ('System-VDI-Not found-2842', 1), ('System-VDI-Create VDI-6395', 1), ('System-Server-Server-2473', 1), ('Network-Wireless-Support-1843', 1), ('Service Desk-Support-Config Outlook 365-428', 1), ('Microsoft-Account-Reset-2653', 1), ('Service Desk-Support-Check hardware-668', 1), ('Service Desk-Support-VDI-3835', 1), ('Microsoft-Account-Reset MFA O365-5508', 1), ('Application-GIT-Not found-5508', 1), ('Service Desk-Network-Config port authen-5642', 1), ('Service Desk-Support-Return Asset-5508', 1), ('Network-Wireless-User chưa được đăng ký sử dụng WIFI-2998', 1), ('Service Desk-Network-Port Configuration-5642', 1), ('Microsoft-Account-Not found-5510', 1), ('Service Desk-Support-Handover Asset-6344', 1), ('Service Desk-Setup/Remove software-Install software-2457', 1), ('Microsoft-Account-Not found-1656', 1), ('Microsoft-Email-Not found-1557', 1), ('System-VDI-Create VDI-5814', 1), ('Microsoft-Account-Reset MFA O365-3054', 1), ('System-VDI-Maintenance Mode-5321', 1), ('System-VDI-VDI Troubleshooting-5673', 1), ('Microsoft-Account-Reset-1534', 1), ('Network-Internet-Kết nối bị hạn chế-458', 1), ('Service Desk-Support-Reset password-1534', 1), ('Service Desk-Setup PC for user-Ubuntu-949', 1), ('Microsoft-Email-Create EMail Policy-3581', 1), ('Network-Wireless-Khác-5814', 1), ('Cloud Service-Cloud Cost-Not found-5508', 1), ('Service Desk-Setup/Remove software-Install software-5814', 1), ('System-VDI-Maintenance Mode-5814', 1), ('Service Desk-Support-Microsoft Team-698', 1), ('Microsoft-Troubleshooting-Email-880', 1), ('Service Desk-Setup/Remove software-Not found-5508', 1), ('Network-VPN-Reset OTP-872', 1), ('Application-GIT-Create GIT-6368', 1), ('Network-Internet-Kết nối bị hạn chế-5400', 1), ('Network-Internet-Kết nối bị hạn chế-1484', 1), ('Service Desk-Setup PC for user-Ubuntu-6297', 1), ('System-Server-Not found-3835', 1), ('Network-Internet-Kết nối bị hạn chế-3039', 1), ('Application-GIT-Truy cập GIT-1826', 1), ('Microsoft-Account-Create Account-1995', 1), ('System-VDI-Not found-3053', 1), ('System-VDI-Maintenance Mode-5642', 1), ('Network-VPN-Phân quyền VPN-872', 1), ('Call Center-Support-Not found-5642', 1), ('Network-Wireless-Support-6357', 1), ('Service Desk-Setup PC for user-Windows 10-1365', 1), ('Service Desk-Setup PC for user-Windows 10-5508', 1), ('Service Desk-Setup PC for user-Windows 10-943', 1), ('Microsoft-Account-Not found-1604', 1), ('System-VDI-Create VDI-6487', 1), ('Microsoft-Account-Not found-2437', 1), ('Service Desk-Setup/Remove software-Install software-5398', 1), ('Application-ESS-Not found-1828', 1), ('Microsoft-Account-Reset-2437', 1), ('Network-Wireless-Support-5778', 1), ('Service Desk-Support-Check Services-2324', 1), ('Service Desk-Support-Config Outlook 365-874', 1), ('System-VDI-Not found-6469', 1), ('Network-Khác-Support-3090', 1), ('Application-Jira-Not found-1828', 1), ('Microsoft-Account-Not found-1845', 1), ('System-VDI-Not found-3526', 1), ('Service Desk-Support-Check hardware-1828', 1), ('Network-Internet-Kết nối bị hạn chế-5750', 1), ('Service Desk-Support-VDI-6723', 1), ('Network-Wireless-Support-1828', 1), ('Service Desk-Support-Unlock account-5510', 1), ('Microsoft-FPT Consolidate-Support-5509', 1), ('Call Center-Support-Not found-6527', 1), ('Microsoft-Email-Create EMail Policy-1828', 1), ('Application-GIT-Truy cập GIT-1995', 1), ('Call Center-Support-Not found-1844', 1), ('Network-Proxy-Khác-2164', 1), ('Application-BUS-Not found-6687', 1), ('Service Desk-Support-Microsoft Team-657', 1), ('Network-Wireless-User chưa được đăng ký sử dụng WIFI-1740', 1), ('Microsoft-Account-Not found-2141', 1), ('Network-Internet-Thiếu SSL certificate-2757', 1), ('Application-OneDrive-Phân quyền Onedrive-2869', 1), ('System-VDI-VDI Troubleshooting-1669', 1), ('Service Desk-Support-VDI-1844', 1), ('Network-Wireless-Support-2665', 1), ('Service Desk-Troubleshooting-Software-3974', 1), ('Microsoft-FPT Consolidate-Not found-6687', 1), ('Microsoft-Email-Not found-3581', 1), ('Service Desk-Support-Check Services-1828', 1), ('Service Desk-Support-Check hardware-2842', 1), ('Application-GIT-Truy cập GIT-4792', 1), ('Application-Jira-Jira Troubleshooting-1828', 1), ('Application-OneDrive-Truy cập Onedrive-6687', 1), ('Network-Internet-Kết nối bị hạn chế-3067', 1), ('Application-OneDrive-Phân quyền Onedrive-6465', 1), ('Network-Wireless-Support-6303', 1), ('Microsoft-Account-Reset MFA O365-6486', 1), ('Service Desk-Support-Active license-2457', 1), ('Network-Wireless-Not found-6515', 1), ('Application-TMS-Not found-1828', 1), ('Service Desk-Network-Port Configuration-5669', 1), ('Microsoft-Account-Not found-798', 1), ('Microsoft-Account-Reset-6687', 1), ('Service Desk-Support-Unlock account-1828', 1), ('Service Desk-Support-Microsoft Team-1828', 1), ('Call Center-Support-Not found-6687', 1), ('Service Desk-Setup laptop for user-MAC OS-3312', 1), ('Microsoft-Account-Disable Account-1570', 1), ('Network-Internet-Thiếu SSL certificate-6174', 1), ('Service Desk-Support-Check Services-6135', 1), ('Network-Internet-Client chưa bypass proxy-4792', 1), ('Network-Internet-Kết nối bị hạn chế-1826', 1), ('Network-Internet-Sai thông tin input-5398', 1), ('Service Desk-Support-Active license-6571', 1), ('Microsoft-Email-Not found-6162', 1), ('Microsoft-FPT Consolidate-Network-6508', 1), ('Application-TMS-Not found-2574', 1), ('Application-OneDrive-Truy cập Onedrive-2324', 1), ('Service Desk-Support-Check Services-668', 1), ('Service Desk-Support-Check account lock-5510', 1), ('Microsoft-Account-Disable Account-2437', 1), ('Service Desk-Setup laptop for user-Windows 10-6122', 1), ('System-VDI-Create VDI-6304', 1), ('Microsoft-Account-Reset-3835', 1), ('Service Desk-Support-Microsoft Team-6121', 1), ('Service Desk-Support-Review PC/Laptop-2574', 1), ('Application-Confluence-Not found-2574', 1), ('Network-Wireless-User chưa được đăng ký sử dụng WIFI-1484', 1), ('Service Desk-Setup laptop for user-Windows 10-1828', 1), ('Microsoft-Email-Anti-Spam / Phishing / Malware-1656', 1), ('Network-Internet-Kênh chập chờn-1828', 1), ('Network-Wireless-Support-1570', 1), ('Network-Wireless-User chưa được đăng ký sử dụng WIFI-1828', 1), ('Call Center-Support-Not found-1828', 1), ('R&D-Workplace-Active account Workplace-6508', 1), ('Microsoft-FPT Consolidate-Helpdesk-6520', 1), ('Microsoft-Email-Not found-1559', 1), ('Microsoft-Account-Re-Active-2665', 1), ('Application-Other-Not found-6508', 1), ('Service Desk-Support-Not found-874', 1), ('Application-TMS-Not found-6520', 1), ('Application-FileServer-Phân quyền File Server-6462', 1), ('Microsoft-Account-Reset-3054', 1), ('Microsoft-One Drive-Not found-6508', 1), ('R&D-Workplace-Other-6508', 1), ('R&D-Workplace-Other-6520', 1), ('Service Desk-Setup PC for user-Windows 11-943', 1), ('Service Desk-Network-Wifi-2998', 1), ('Microsoft-Account-Not found-1828', 1), ('Call Center-Support-Not found-6515', 1), ('Network-Wireless-User chưa được đăng ký sử dụng WIFI-5508', 1), ('R&D-Workplace-Active account Workplace-5288', 1)])"
      ]
     },
     "execution_count": 119,
     "metadata": {},
     "output_type": "execute_result"
    }
   ],
   "source": [
    "# Creating a dictionary using value_counts()\n",
    "items = df['label'].value_counts().to_dict().items()\n",
    "items"
   ]
  },
  {
   "cell_type": "code",
   "execution_count": 120,
   "metadata": {},
   "outputs": [],
   "source": [
    "# Filtering only those rows where duplicate entries occur more than n\n",
    "n = 2\n",
    "df_to_split = df[df['label'].isin([key for key, val in items if val > n])]"
   ]
  },
  {
   "cell_type": "code",
   "execution_count": 121,
   "metadata": {},
   "outputs": [],
   "source": [
    "df_to_keep = df[df['label'].isin([key for key, val in items if val < n])]"
   ]
  },
  {
   "cell_type": "code",
   "execution_count": 122,
   "metadata": {},
   "outputs": [
    {
     "data": {
      "text/plain": [
       "173"
      ]
     },
     "execution_count": 122,
     "metadata": {},
     "output_type": "execute_result"
    }
   ],
   "source": [
    "len(df_to_keep)"
   ]
  },
  {
   "cell_type": "code",
   "execution_count": 123,
   "metadata": {},
   "outputs": [],
   "source": [
    "unique_classes = df_to_keep[\"Request ID\"].to_list()"
   ]
  },
  {
   "cell_type": "code",
   "execution_count": 124,
   "metadata": {},
   "outputs": [
    {
     "data": {
      "text/plain": [
       "label\n",
       "Network-Wireless-Support-5814                                1234\n",
       "Microsoft-Account-Reset MFA O365-2437                         496\n",
       "Call Center-Support-Not found-1669                            264\n",
       "Microsoft-Account-Disable Account-2665                        248\n",
       "Microsoft-FPT Consolidate-Support-6508                        221\n",
       "                                                             ... \n",
       "Call Center-Support-Not found-3312                              3\n",
       "System-VDI-VDI Troubleshooting-5511                             3\n",
       "Network-Wireless-User chưa được đăng ký sử dụng WIFI-5374       3\n",
       "Service Desk-Support-Check account lock-3054                    3\n",
       "R&D-Workplace-Other-2782                                        3\n",
       "Name: count, Length: 119, dtype: int64"
      ]
     },
     "execution_count": 124,
     "metadata": {},
     "output_type": "execute_result"
    }
   ],
   "source": [
    "df_to_split['label'].value_counts()"
   ]
  },
  {
   "cell_type": "code",
   "execution_count": 125,
   "metadata": {},
   "outputs": [],
   "source": [
    "from sklearn.model_selection import train_test_split\n",
    "X_train, X_test, y_train, y_test = train_test_split(df_to_split['Request ID'], df_to_split['label'],\n",
    "                                                    stratify=df_to_split['label'],\n",
    "                                                    test_size=0.2)"
   ]
  },
  {
   "cell_type": "code",
   "execution_count": 126,
   "metadata": {},
   "outputs": [
    {
     "data": {
      "text/plain": [
       "(3728, 932)"
      ]
     },
     "execution_count": 126,
     "metadata": {},
     "output_type": "execute_result"
    }
   ],
   "source": [
    "len(X_train), len(X_test)"
   ]
  },
  {
   "cell_type": "code",
   "execution_count": 127,
   "metadata": {},
   "outputs": [],
   "source": [
    "X_train = X_train.to_list()\n",
    "X_test = X_test.to_list()"
   ]
  },
  {
   "cell_type": "code",
   "execution_count": 128,
   "metadata": {},
   "outputs": [
    {
     "data": {
      "text/plain": [
       "3901"
      ]
     },
     "execution_count": 128,
     "metadata": {},
     "output_type": "execute_result"
    }
   ],
   "source": [
    "X_train.extend(unique_classes)\n",
    "len(X_train)"
   ]
  },
  {
   "cell_type": "code",
   "execution_count": 129,
   "metadata": {},
   "outputs": [],
   "source": [
    "df_train = df_All[df_All['Request ID'].isin(X_train)]\n",
    "df_test = df_All[df_All['Request ID'].isin(X_test)]"
   ]
  },
  {
   "cell_type": "code",
   "execution_count": 130,
   "metadata": {},
   "outputs": [
    {
     "data": {
      "text/plain": [
       "(3901, 932)"
      ]
     },
     "execution_count": 130,
     "metadata": {},
     "output_type": "execute_result"
    }
   ],
   "source": [
    "len(df_train), len(df_test)"
   ]
  },
  {
   "cell_type": "markdown",
   "metadata": {},
   "source": [
    "## Verify data"
   ]
  },
  {
   "cell_type": "code",
   "execution_count": 131,
   "metadata": {},
   "outputs": [
    {
     "name": "stderr",
     "output_type": "stream",
     "text": [
      "C:\\Users\\acer\\AppData\\Local\\Temp\\ipykernel_27044\\3655970704.py:1: SettingWithCopyWarning: \n",
      "A value is trying to be set on a copy of a slice from a DataFrame.\n",
      "Try using .loc[row_indexer,col_indexer] = value instead\n",
      "\n",
      "See the caveats in the documentation: https://pandas.pydata.org/pandas-docs/stable/user_guide/indexing.html#returning-a-view-versus-a-copy\n",
      "  df_train['label'] = df_train[['Category', 'Subcategory',\n"
     ]
    }
   ],
   "source": [
    "df_train['label'] = df_train[['Category', 'Subcategory',\n",
    "       'Item', 'Applied Solutions']].agg('-'.join, axis=1)"
   ]
  },
  {
   "cell_type": "code",
   "execution_count": 132,
   "metadata": {},
   "outputs": [
    {
     "name": "stderr",
     "output_type": "stream",
     "text": [
      "C:\\Users\\acer\\AppData\\Local\\Temp\\ipykernel_27044\\3801665666.py:1: SettingWithCopyWarning: \n",
      "A value is trying to be set on a copy of a slice from a DataFrame.\n",
      "Try using .loc[row_indexer,col_indexer] = value instead\n",
      "\n",
      "See the caveats in the documentation: https://pandas.pydata.org/pandas-docs/stable/user_guide/indexing.html#returning-a-view-versus-a-copy\n",
      "  df_test['label'] = df_test[['Category', 'Subcategory',\n"
     ]
    }
   ],
   "source": [
    "df_test['label'] = df_test[['Category', 'Subcategory',\n",
    "       'Item', 'Applied Solutions']].agg('-'.join, axis=1)"
   ]
  },
  {
   "cell_type": "code",
   "execution_count": 133,
   "metadata": {},
   "outputs": [],
   "source": [
    "# Creating a dictionary using value_counts()\n",
    "train_labels = df_train['label'].value_counts().to_dict()"
   ]
  },
  {
   "cell_type": "code",
   "execution_count": 134,
   "metadata": {},
   "outputs": [],
   "source": [
    "test_labels = df_test['label'].value_counts().to_dict()"
   ]
  },
  {
   "cell_type": "code",
   "execution_count": 135,
   "metadata": {},
   "outputs": [],
   "source": [
    "train_labels_set = set(train_labels.keys())"
   ]
  },
  {
   "cell_type": "code",
   "execution_count": 136,
   "metadata": {},
   "outputs": [],
   "source": [
    "test_labels_set = set(test_labels.keys())"
   ]
  },
  {
   "cell_type": "code",
   "execution_count": 137,
   "metadata": {},
   "outputs": [
    {
     "data": {
      "text/plain": [
       "True"
      ]
     },
     "execution_count": 137,
     "metadata": {},
     "output_type": "execute_result"
    }
   ],
   "source": [
    "test_labels_set.issubset(train_labels_set)"
   ]
  },
  {
   "cell_type": "code",
   "execution_count": 138,
   "metadata": {},
   "outputs": [
    {
     "data": {
      "text/plain": [
       "True"
      ]
     },
     "execution_count": 138,
     "metadata": {},
     "output_type": "execute_result"
    }
   ],
   "source": [
    "train_labels_set.issuperset(test_labels_set)"
   ]
  },
  {
   "cell_type": "code",
   "execution_count": 139,
   "metadata": {},
   "outputs": [
    {
     "data": {
      "text/html": [
       "<div>\n",
       "<style scoped>\n",
       "    .dataframe tbody tr th:only-of-type {\n",
       "        vertical-align: middle;\n",
       "    }\n",
       "\n",
       "    .dataframe tbody tr th {\n",
       "        vertical-align: top;\n",
       "    }\n",
       "\n",
       "    .dataframe thead th {\n",
       "        text-align: right;\n",
       "    }\n",
       "</style>\n",
       "<table border=\"1\" class=\"dataframe\">\n",
       "  <thead>\n",
       "    <tr style=\"text-align: right;\">\n",
       "      <th></th>\n",
       "      <th>Request ID</th>\n",
       "      <th>Subject</th>\n",
       "      <th>Description</th>\n",
       "      <th>Category</th>\n",
       "      <th>Subcategory</th>\n",
       "      <th>Item</th>\n",
       "      <th>Applied Solutions</th>\n",
       "      <th>check_data</th>\n",
       "      <th>Note</th>\n",
       "      <th>cleaned_content</th>\n",
       "      <th>after_improve_prompt</th>\n",
       "      <th>label</th>\n",
       "    </tr>\n",
       "  </thead>\n",
       "  <tbody>\n",
       "    <tr>\n",
       "      <th>0</th>\n",
       "      <td>2459648</td>\n",
       "      <td>'@ Re: Tài khoản NhanPA ko Login dc Office365</td>\n",
       "      <td>\\n \\nDear ITC, \\n \\nNhờ IT xử lý giúp. \\n \\n ...</td>\n",
       "      <td>Microsoft</td>\n",
       "      <td>Account</td>\n",
       "      <td>Disable Account</td>\n",
       "      <td>2665</td>\n",
       "      <td>OK</td>\n",
       "      <td>NaN</td>\n",
       "      <td>Re: Tài khoản NhanPA ko Login dc Office365\\nDe...</td>\n",
       "      <td>The user's request is for IT to check and reso...</td>\n",
       "      <td>Microsoft-Account-Disable Account-2665</td>\n",
       "    </tr>\n",
       "    <tr>\n",
       "      <th>1</th>\n",
       "      <td>2459176</td>\n",
       "      <td>'@ [Workchat] không đăng nhập được</td>\n",
       "      <td>\\n \\n Dear IT, \\n &amp;nbsp; \\n Nhờ check giúp mì...</td>\n",
       "      <td>R&amp;D</td>\n",
       "      <td>Workplace</td>\n",
       "      <td>Active account Workplace</td>\n",
       "      <td>2782</td>\n",
       "      <td>OK</td>\n",
       "      <td>NaN</td>\n",
       "      <td>[Workchat] không đăng nhập được\\nDear IT,\\nNhờ...</td>\n",
       "      <td>The user's request is to check their account a...</td>\n",
       "      <td>R&amp;D-Workplace-Active account Workplace-2782</td>\n",
       "    </tr>\n",
       "    <tr>\n",
       "      <th>2</th>\n",
       "      <td>2457995</td>\n",
       "      <td>[Workplace] # HI IT support team,Mình có nhận ...</td>\n",
       "      <td>Nội Dung :  # HI IT support team,\\n\\nMình có ...</td>\n",
       "      <td>System</td>\n",
       "      <td>VDI</td>\n",
       "      <td>Maintenance Mode</td>\n",
       "      <td>5250</td>\n",
       "      <td>OK</td>\n",
       "      <td>NaN</td>\n",
       "      <td># HI IT support team,Mình có nhận được mail th...</td>\n",
       "      <td>The user's request is to not have their VDI (V...</td>\n",
       "      <td>System-VDI-Maintenance Mode-5250</td>\n",
       "    </tr>\n",
       "    <tr>\n",
       "      <th>3</th>\n",
       "      <td>2461038</td>\n",
       "      <td>TriNV2  - Check lỗi VDI</td>\n",
       "      <td>NaN</td>\n",
       "      <td>System</td>\n",
       "      <td>VDI</td>\n",
       "      <td>VDI Troubleshooting</td>\n",
       "      <td>1844</td>\n",
       "      <td>OK</td>\n",
       "      <td>Empty desc but valid subject</td>\n",
       "      <td>TriNV2 - Check lỗi VDI\\n</td>\n",
       "      <td>The user's request is to check for errors in t...</td>\n",
       "      <td>System-VDI-VDI Troubleshooting-1844</td>\n",
       "    </tr>\n",
       "    <tr>\n",
       "      <th>4</th>\n",
       "      <td>2457255</td>\n",
       "      <td>[Support] hi IT.Support, mình mới thay đổi pas...</td>\n",
       "      <td>Nội Dung :  hi IT.Support, mình mới thay đổi ...</td>\n",
       "      <td>Microsoft</td>\n",
       "      <td>Account</td>\n",
       "      <td>Not found</td>\n",
       "      <td>3054</td>\n",
       "      <td>OK</td>\n",
       "      <td>NaN</td>\n",
       "      <td>[Support] hi IT.Support, mình mới thay đổi pas...</td>\n",
       "      <td>The user's request is to receive IT support fo...</td>\n",
       "      <td>Microsoft-Account-Not found-3054</td>\n",
       "    </tr>\n",
       "  </tbody>\n",
       "</table>\n",
       "</div>"
      ],
      "text/plain": [
       "   Request ID                                            Subject  \\\n",
       "0     2459648      '@ Re: Tài khoản NhanPA ko Login dc Office365   \n",
       "1     2459176                 '@ [Workchat] không đăng nhập được   \n",
       "2     2457995  [Workplace] # HI IT support team,Mình có nhận ...   \n",
       "3     2461038                            TriNV2  - Check lỗi VDI   \n",
       "4     2457255  [Support] hi IT.Support, mình mới thay đổi pas...   \n",
       "\n",
       "                                         Description   Category Subcategory  \\\n",
       "0   \\n \\nDear ITC, \\n \\nNhờ IT xử lý giúp. \\n \\n ...  Microsoft     Account   \n",
       "1   \\n \\n Dear IT, \\n &nbsp; \\n Nhờ check giúp mì...        R&D   Workplace   \n",
       "2   Nội Dung :  # HI IT support team,\\n\\nMình có ...     System         VDI   \n",
       "3                                                NaN     System         VDI   \n",
       "4   Nội Dung :  hi IT.Support, mình mới thay đổi ...  Microsoft     Account   \n",
       "\n",
       "                       Item Applied Solutions check_data  \\\n",
       "0           Disable Account              2665         OK   \n",
       "1  Active account Workplace              2782         OK   \n",
       "2          Maintenance Mode              5250         OK   \n",
       "3       VDI Troubleshooting              1844         OK   \n",
       "4                 Not found              3054         OK   \n",
       "\n",
       "                           Note  \\\n",
       "0                           NaN   \n",
       "1                           NaN   \n",
       "2                           NaN   \n",
       "3  Empty desc but valid subject   \n",
       "4                           NaN   \n",
       "\n",
       "                                     cleaned_content  \\\n",
       "0  Re: Tài khoản NhanPA ko Login dc Office365\\nDe...   \n",
       "1  [Workchat] không đăng nhập được\\nDear IT,\\nNhờ...   \n",
       "2  # HI IT support team,Mình có nhận được mail th...   \n",
       "3                           TriNV2 - Check lỗi VDI\\n   \n",
       "4  [Support] hi IT.Support, mình mới thay đổi pas...   \n",
       "\n",
       "                                after_improve_prompt  \\\n",
       "0  The user's request is for IT to check and reso...   \n",
       "1  The user's request is to check their account a...   \n",
       "2  The user's request is to not have their VDI (V...   \n",
       "3  The user's request is to check for errors in t...   \n",
       "4  The user's request is to receive IT support fo...   \n",
       "\n",
       "                                         label  \n",
       "0       Microsoft-Account-Disable Account-2665  \n",
       "1  R&D-Workplace-Active account Workplace-2782  \n",
       "2             System-VDI-Maintenance Mode-5250  \n",
       "3          System-VDI-VDI Troubleshooting-1844  \n",
       "4             Microsoft-Account-Not found-3054  "
      ]
     },
     "execution_count": 139,
     "metadata": {},
     "output_type": "execute_result"
    }
   ],
   "source": [
    "df_train.head()"
   ]
  },
  {
   "cell_type": "code",
   "execution_count": 140,
   "metadata": {},
   "outputs": [
    {
     "name": "stderr",
     "output_type": "stream",
     "text": [
      "C:\\Users\\acer\\AppData\\Local\\Temp\\ipykernel_27044\\1542100359.py:1: SettingWithCopyWarning: \n",
      "A value is trying to be set on a copy of a slice from a DataFrame\n",
      "\n",
      "See the caveats in the documentation: https://pandas.pydata.org/pandas-docs/stable/user_guide/indexing.html#returning-a-view-versus-a-copy\n",
      "  df_train.drop(columns=['label'], inplace=True)\n",
      "C:\\Users\\acer\\AppData\\Local\\Temp\\ipykernel_27044\\1542100359.py:2: SettingWithCopyWarning: \n",
      "A value is trying to be set on a copy of a slice from a DataFrame\n",
      "\n",
      "See the caveats in the documentation: https://pandas.pydata.org/pandas-docs/stable/user_guide/indexing.html#returning-a-view-versus-a-copy\n",
      "  df_test.drop(columns=['label'], inplace=True)\n"
     ]
    }
   ],
   "source": [
    "df_train.drop(columns=['label'], inplace=True)\n",
    "df_test.drop(columns=['label'], inplace=True)"
   ]
  },
  {
   "cell_type": "code",
   "execution_count": 141,
   "metadata": {},
   "outputs": [],
   "source": [
    "# df_train['Applied Solutions'].astype(int)\n",
    "# df_test['Applied Solutions'].astype(int)"
   ]
  },
  {
   "cell_type": "code",
   "execution_count": 142,
   "metadata": {},
   "outputs": [
    {
     "name": "stderr",
     "output_type": "stream",
     "text": [
      "C:\\Users\\acer\\AppData\\Local\\Temp\\ipykernel_27044\\244024747.py:2: SettingWithCopyWarning: \n",
      "A value is trying to be set on a copy of a slice from a DataFrame.\n",
      "Try using .loc[row_indexer,col_indexer] = value instead\n",
      "\n",
      "See the caveats in the documentation: https://pandas.pydata.org/pandas-docs/stable/user_guide/indexing.html#returning-a-view-versus-a-copy\n",
      "  df_train['Applied Solutions']=pd.to_numeric(df_train['Applied Solutions'], errors='coerce')\n",
      "C:\\Users\\acer\\AppData\\Local\\Temp\\ipykernel_27044\\244024747.py:3: SettingWithCopyWarning: \n",
      "A value is trying to be set on a copy of a slice from a DataFrame.\n",
      "Try using .loc[row_indexer,col_indexer] = value instead\n",
      "\n",
      "See the caveats in the documentation: https://pandas.pydata.org/pandas-docs/stable/user_guide/indexing.html#returning-a-view-versus-a-copy\n",
      "  df_test['Applied Solutions']=pd.to_numeric(df_test['Applied Solutions'], errors='coerce')\n"
     ]
    }
   ],
   "source": [
    "# Chuyển đổi cột 'Applied Solutions' sang kiểu dữ liệu số nguyên và xử lý lỗi\n",
    "df_train['Applied Solutions']=pd.to_numeric(df_train['Applied Solutions'], errors='coerce')\n",
    "df_test['Applied Solutions']=pd.to_numeric(df_test['Applied Solutions'], errors='coerce')\n"
   ]
  },
  {
   "cell_type": "code",
   "execution_count": 143,
   "metadata": {},
   "outputs": [],
   "source": [
    "df_train.to_excel(f\"test_train/train_5K_{date}.xlsx\", index=False)\n",
    "df_test.to_excel(f\"test_train/test_5K_{date}.xlsx\", index=False)"
   ]
  },
  {
   "cell_type": "code",
   "execution_count": 144,
   "metadata": {},
   "outputs": [],
   "source": [
    "# df_train.to_excel(f\"{date}_full_testing_4k.xlsx\", index=False)\n",
    "# df_test.to_excel(f\"{date}_full_testing_1k.xlsx\", index=False)"
   ]
  },
  {
   "cell_type": "code",
   "execution_count": null,
   "metadata": {},
   "outputs": [],
   "source": []
  }
 ],
 "metadata": {
  "kernelspec": {
   "display_name": "langchainOCR",
   "language": "python",
   "name": "python3"
  },
  "language_info": {
   "codemirror_mode": {
    "name": "ipython",
    "version": 3
   },
   "file_extension": ".py",
   "mimetype": "text/x-python",
   "name": "python",
   "nbconvert_exporter": "python",
   "pygments_lexer": "ipython3",
   "version": "3.9.0"
  },
  "orig_nbformat": 4
 },
 "nbformat": 4,
 "nbformat_minor": 2
}
