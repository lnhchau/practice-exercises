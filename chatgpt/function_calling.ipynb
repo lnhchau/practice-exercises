{
 "cells": [
  {
   "cell_type": "markdown",
   "metadata": {},
   "source": [
    "### **Resource** \n",
    "https://www.datacamp.com/tutorial/open-ai-function-calling-tutorial\n"
   ]
  },
  {
   "cell_type": "markdown",
   "metadata": {},
   "source": [
    "## **Function calling trong hàm openai.ChatCompletion.create()**\n",
    "\n",
    "- GPT là mô hình LLM, xuất ra output dựa trên cảm tính là nhiều. Nên những output sẽ không luôn trật tự và đúng theo cú pháp. \n",
    "- Các developer sẽ deal with problem này bằng cách:\n",
    "    - Add thêm description rõ ràng, expected output vào prompt\n",
    "    - Add những hàm regex để hậu xử lý kết quả trả về của mô hình\n",
    "\n",
    "**Ví dụ** \n",
    "- câu prompt 1: \"David Nguyen is a sophomore majoring in computer science at Stanford University. He is Asian American and has a 3.8 GPA. David is known for his programming skills and is an active member of the university's Robotics Club. He hopes to pursue a career in artificial intelligence after graduating.\""
   ]
  },
  {
   "cell_type": "code",
   "execution_count": 2,
   "metadata": {},
   "outputs": [],
   "source": [
    "student_1_description = \"David Nguyen is a sophomore majoring in computer science at Stanford University. He is Asian American and has a 3.8 GPA. David is known for his programming skills and is an active member of the university's Robotics Club. He hopes to pursue a career in artificial intelligence after graduating.\"\n"
   ]
  },
  {
   "cell_type": "code",
   "execution_count": 3,
   "metadata": {},
   "outputs": [],
   "source": [
    "prompt1 = f'''\n",
    "Please extract the following information from the given text and return it as a JSON object:\n",
    "\n",
    "name\n",
    "major\n",
    "school\n",
    "grades\n",
    "club\n",
    "\n",
    "This is the body of text to extract the information from:\n",
    "{student_1_description}\n",
    "'''"
   ]
  },
  {
   "cell_type": "code",
   "execution_count": 9,
   "metadata": {},
   "outputs": [],
   "source": [
    "import openai\n",
    "openai.api_key = \"\""
   ]
  },
  {
   "cell_type": "code",
   "execution_count": 4,
   "metadata": {},
   "outputs": [
    {
     "data": {
      "text/plain": [
       "'{\\n  \"name\": \"David Nguyen\",\\n  \"major\": \"computer science\",\\n  \"school\": \"Stanford University\",\\n  \"grades\": \"3.8 GPA\",\\n  \"club\": \"Robotics Club\"\\n}'"
      ]
     },
     "execution_count": 4,
     "metadata": {},
     "output_type": "execute_result"
    }
   ],
   "source": [
    "# Generating response back from gpt-3.5-turbo\n",
    "openai_response = openai.ChatCompletion.create(\n",
    "    model = 'gpt-3.5-turbo',\n",
    "    messages = [{'role': 'user', 'content': prompt1}]\n",
    ")\n",
    "response_1 = openai_response['choices'][0]['message']['content']\n",
    "response_1"
   ]
  },
  {
   "cell_type": "code",
   "execution_count": 5,
   "metadata": {},
   "outputs": [
    {
     "data": {
      "text/plain": [
       "{'name': 'David Nguyen',\n",
       " 'major': 'computer science',\n",
       " 'school': 'Stanford University',\n",
       " 'grades': '3.8 GPA',\n",
       " 'club': 'Robotics Club'}"
      ]
     },
     "execution_count": 5,
     "metadata": {},
     "output_type": "execute_result"
    }
   ],
   "source": [
    "import json\n",
    "json_response = json.loads(response_1)\n",
    "json_response"
   ]
  },
  {
   "cell_type": "markdown",
   "metadata": {},
   "source": [
    "- câu prompt 2: \"Ravi Patel is a sophomore majoring in computer science at the University of Michigan. He is South Asian Indian American and has a 3.7 GPA. Ravi is an active member of the university's Chess Club and the South Asian Student Association. He hopes to pursue a career in software engineering after graduating.\""
   ]
  },
  {
   "cell_type": "code",
   "execution_count": 4,
   "metadata": {},
   "outputs": [],
   "source": [
    "student_2_description=\"Ravi Patel is a sophomore majoring in computer science at the University of Michigan. He is South Asian Indian American and has a 3.7 GPA. Ravi is an active member of the university's Chess Club and the South Asian Student Association. He hopes to pursue a career in software engineering after graduating.\""
   ]
  },
  {
   "cell_type": "code",
   "execution_count": 5,
   "metadata": {},
   "outputs": [],
   "source": [
    "prompt2 = f'''\n",
    "Please extract the following information from the given text and return it as a JSON object:\n",
    "\n",
    "name\n",
    "major\n",
    "school\n",
    "grades\n",
    "club\n",
    "\n",
    "This is the body of text to extract the information from:\n",
    "{student_2_description}\n",
    "'''"
   ]
  },
  {
   "cell_type": "code",
   "execution_count": 10,
   "metadata": {},
   "outputs": [
    {
     "data": {
      "text/plain": [
       "{'name': 'Ravi Patel',\n",
       " 'major': 'computer science',\n",
       " 'school': 'University of Michigan',\n",
       " 'grades': '3.7',\n",
       " 'club': ['Chess Club', 'South Asian Student Association']}"
      ]
     },
     "execution_count": 10,
     "metadata": {},
     "output_type": "execute_result"
    }
   ],
   "source": [
    "import json\n",
    "openai_response = openai.ChatCompletion.create(\n",
    "    model = 'gpt-3.5-turbo',\n",
    "    messages = [{'role': 'user', 'content': prompt2 }]\n",
    ")\n",
    "\n",
    "response_2 = openai_response['choices'][0]['message']['content']\n",
    "json_response = json.loads(response_2)\n",
    "json_response"
   ]
  },
  {
   "cell_type": "markdown",
   "metadata": {},
   "source": [
    "Ta thấy rằng, cùng một description prompt, nhưng kết quả cho ra lại khác nhau.\n",
    "- Grades: lúc thì có \"GPA\" lúc thì không\n",
    "- Club: lúc thì là chuỗi, lúc thì là string. "
   ]
  },
  {
   "cell_type": "markdown",
   "metadata": {},
   "source": [
    "**Function Calling** ra đời để thay thế việc ghi description vào thẳng câu prompt ở hai ví dụ trên. Mà ta sẽ định dạng description đó dưới dạng dictionary và function để GPT có thể hiểu rõ hơn. \n",
    "\n",
    "Đây là tính năng mà openai add vào library của mình, nên về lý thuyết thì đây là tính năng tối ưu hơn cho việc viết thêm description vào prompt"
   ]
  },
  {
   "cell_type": "code",
   "execution_count": 6,
   "metadata": {},
   "outputs": [],
   "source": [
    "student_custom_functions = [\n",
    "    {\n",
    "        'name': 'get_student_info',\n",
    "        'description': 'Get the student information from the body of the input text',\n",
    "        'parameters': {\n",
    "            'type': 'object',\n",
    "            'properties': {\n",
    "                'name': {\n",
    "                    'type': 'string',\n",
    "                    'description': 'Name of the person'\n",
    "                },\n",
    "                'major': {\n",
    "                    'type': 'string',\n",
    "                    'description': 'Major subject.'\n",
    "                },\n",
    "                'school': {\n",
    "                    'type': 'string',\n",
    "                    'description': 'The university name.'\n",
    "                },\n",
    "                'grades': {\n",
    "                    'type': 'integer',\n",
    "                    'description': 'GPA of the student.'\n",
    "                },\n",
    "                'club': {\n",
    "                    'type': 'string',\n",
    "                    'description': 'School club for extracurricular activities. '\n",
    "                }\n",
    "                \n",
    "            }\n",
    "        }\n",
    "    }\n",
    "]"
   ]
  },
  {
   "cell_type": "code",
   "execution_count": 18,
   "metadata": {},
   "outputs": [
    {
     "name": "stdout",
     "output_type": "stream",
     "text": [
      "{'name': 'David Nguyen', 'major': 'computer science', 'school': 'Stanford University', 'grades': 3.8, 'club': 'Robotics Club'}\n",
      "{'name': 'Ravi Patel', 'major': 'Computer Science', 'school': 'University of Michigan', 'grades': 3.7, 'club': 'Chess Club'}\n"
     ]
    }
   ],
   "source": [
    "student_description = [student_1_description,student_2_description]\n",
    "for sample in student_description:\n",
    "    response = openai.ChatCompletion.create(\n",
    "        model = 'gpt-3.5-turbo',\n",
    "        messages = [{'role': 'user', 'content': sample}],\n",
    "        functions = student_custom_functions,\n",
    "        function_call = 'auto'\n",
    "    )\n",
    "\n",
    "    # Loading the response as a JSON object\n",
    "    json_response = json.loads(response['choices'][0]['message']['function_call']['arguments'])\n",
    "    print(json_response)"
   ]
  },
  {
   "cell_type": "code",
   "execution_count": 13,
   "metadata": {},
   "outputs": [
    {
     "data": {
      "text/plain": [
       "<OpenAIObject at 0x19ccd4bdf80> JSON: {\n",
       "  \"role\": \"assistant\",\n",
       "  \"content\": null,\n",
       "  \"function_call\": {\n",
       "    \"name\": \"extract_student_info\",\n",
       "    \"arguments\": \"{\\n  \\\"name\\\": \\\"Ravi Patel\\\",\\n  \\\"major\\\": \\\"Computer Science\\\",\\n  \\\"school\\\": \\\"University of Michigan\\\",\\n  \\\"grades\\\": 3.7,\\n  \\\"club\\\": \\\"Chess Club\\\",\\n  \\\"club2\\\": \\\"South Asian Student Association\\\"\\n}\"\n",
       "  }\n",
       "}"
      ]
     },
     "execution_count": 13,
     "metadata": {},
     "output_type": "execute_result"
    }
   ],
   "source": [
    "response['choices'][0]['message']"
   ]
  },
  {
   "cell_type": "markdown",
   "metadata": {},
   "source": [
    "### **Cách dùng thực sự của Function Calling**\n",
    "\n",
    "Vì output của OpenAI sau khi qua Function Calling đã được xử lý, nên output có thể được đem vào để chạy ở những tác vụ khác.\n",
    "\n",
    "Ta sẽ code thêm xíu nữa để có thể làm thêm nhiều tác vụ khác. \n",
    "\n",
    "Ví dụ: Sau khi extract xong thông tin, ta muốn in ra thông tin của học sinh bằng hàm *get_student_info()*"
   ]
  },
  {
   "cell_type": "code",
   "execution_count": 7,
   "metadata": {},
   "outputs": [],
   "source": [
    "def get_student_info(name, major, school, grades, club):\n",
    "    return f\"Student {name} learns at {major} major at {school}. He/she has a grade {grades} GPA and has attended in {club}\""
   ]
  },
  {
   "cell_type": "code",
   "execution_count": 10,
   "metadata": {},
   "outputs": [
    {
     "name": "stdout",
     "output_type": "stream",
     "text": [
      "Student David Nguyen learns at Computer Science major at Stanford University. He/she has a grade 3.8 GPA and has attended in Robotics Club\n"
     ]
    }
   ],
   "source": [
    "import json\n",
    "student_description = [student_1_description,student_2_description]\n",
    "for sample in student_description:\n",
    "    response = openai.ChatCompletion.create(\n",
    "        model = 'gpt-3.5-turbo',\n",
    "        messages = [{'role': 'user', 'content': sample}],\n",
    "        functions = student_custom_functions,\n",
    "        function_call = 'auto'\n",
    "    )\n",
    "    response_message = response[\"choices\"][0][\"message\"]\n",
    "    function_name = response_message['function_call']['name']\n",
    "    # Tạo ra một dictionary để map string (function name) với object function (get_student_info)\n",
    "    available_functions = {\n",
    "            \"get_student_info\": get_student_info,\n",
    "    }\n",
    "\n",
    "    function_args  = json.loads(response_message['function_call']['arguments'])\n",
    "    function_to_call = available_functions[function_name]\n",
    "    response_message = function_to_call(*list(function_args.values()))\n",
    "    print(response_message)"
   ]
  }
 ],
 "metadata": {
  "kernelspec": {
   "display_name": "test",
   "language": "python",
   "name": "python3"
  },
  "language_info": {
   "codemirror_mode": {
    "name": "ipython",
    "version": 3
   },
   "file_extension": ".py",
   "mimetype": "text/x-python",
   "name": "python",
   "nbconvert_exporter": "python",
   "pygments_lexer": "ipython3",
   "version": "3.10.11"
  }
 },
 "nbformat": 4,
 "nbformat_minor": 2
}
