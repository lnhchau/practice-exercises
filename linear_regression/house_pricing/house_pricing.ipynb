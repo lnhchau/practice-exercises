{
 "cells": [
  {
   "cell_type": "markdown",
   "metadata": {},
   "source": [
    "### **1. Các dạng bài toán của AI**"
   ]
  },
  {
   "cell_type": "markdown",
   "metadata": {},
   "source": [
    "#### **Supervised learning** (Học có giám sát): \n",
    "Khi data cung cấp mẫu dữ liệu và kết quả của mẫu dữ liệu đó\n",
    "![Alt text](image-2.png)\n",
    "\n",
    "Khi ta có **Hour studies** là mẫu dữ liệu và **Grade** là kết quả của mẫu dữ liệu đó. \n",
    "\n",
    "-> Yêu cầu là xây dựng một mô hình mà có thể dự đoán **Grade** khi ta input **Hour studies** vào.\n",
    "\n",
    "Có 2 dạng toán nhỏ chính của Supervised Learning: \n",
    "1. Regression (Hồi quy): là dự đoán một giá trị về số (ví dụ như dự đoán điểm số, dự đoán giá nhà)\n",
    "2. Classification (Phân loại): là dự đoán một giá trị là các nhóm (ví dụ như dự đoán giới tính, dự đoán chó hay mèo)"
   ]
  },
  {
   "cell_type": "markdown",
   "metadata": {},
   "source": [
    "#### **Unsupervised learning (Học không giám sát)**\n",
    "Khi data chỉ cung cấp dữ liệu nhưng không cung cấp kết quả của dữ liệu đó, ví dụ cùng một dataset \"Breast Cancer\" \n",
    "![Alt text](image-3.png)\n",
    "\n",
    "- Đây là data có kết quả là bị ung thư hay không?, có thể dùng cho bài toán supervised learning\n",
    "\n",
    "- Nhưng nếu chỉ cung cấp data như bên dưới thì ta chỉ có thể dùng bài toán unsupervised learning\n",
    "![Alt text](image-4.png)\n",
    "\n",
    "**Ví dụ như bài gom nhóm**\n",
    "![Alt text](image-6.png)\n",
    "\n",
    "\n",
    "\n"
   ]
  },
  {
   "cell_type": "markdown",
   "metadata": {},
   "source": [
    "#### **Kết luận**\n",
    "\n",
    "![Alt text](image-5.png)\n",
    "\n",
    "- Supervised learning là bài toán để tìm ra kết quả dự đoán cho mẫu dữ liệu \n",
    "- Unsupervised learning là bài toán tìm ra những mối liên hệ giữa các mẫu dữ liệu với nhau"
   ]
  },
  {
   "cell_type": "markdown",
   "metadata": {},
   "source": [
    "### **2. Supervised Learning - House Pricing Prediction** \n"
   ]
  },
  {
   "cell_type": "markdown",
   "metadata": {},
   "source": [
    "Giới thiệu bài toán: \n",
    "- Dữ liệu ta gồm hai cột: area và price\n",
    "\n",
    "![Alt text](image-7.png)\n",
    "\n",
    "- Yêu cầu đề bài là dựa vào diện tích nhà, ta có thể dự đoán giá nhà -> Vậy thì dựa vào data này, ta có thể giải bằng dạng supervised learning với **area** là mẫu dữ liệu, **price** là kết quả của mẫu dữ liệu "
   ]
  },
  {
   "cell_type": "code",
   "execution_count": 54,
   "metadata": {},
   "outputs": [],
   "source": [
    "import numpy as np\n",
    "import matplotlib.pyplot as plt\n",
    "import random\n",
    "data = np.genfromtxt('HousePricing.csv',dtype=float,delimiter=',')\n"
   ]
  },
  {
   "cell_type": "code",
   "execution_count": 55,
   "metadata": {},
   "outputs": [
    {
     "data": {
      "text/plain": [
       "array([[6.71, 9.12],\n",
       "       [1.2 , 2.43],\n",
       "       [1.86, 2.91],\n",
       "       [2.09, 3.41],\n",
       "       [3.05, 4.71],\n",
       "       [4.69, 5.94],\n",
       "       [3.57, 5.4 ],\n",
       "       [5.55, 7.04],\n",
       "       [2.39, 3.38],\n",
       "       [3.94, 5.29]])"
      ]
     },
     "execution_count": 55,
     "metadata": {},
     "output_type": "execute_result"
    }
   ],
   "source": [
    "data"
   ]
  },
  {
   "cell_type": "code",
   "execution_count": 56,
   "metadata": {},
   "outputs": [
    {
     "data": {
      "text/plain": [
       "<matplotlib.collections.PathCollection at 0x1dc247b90c0>"
      ]
     },
     "execution_count": 56,
     "metadata": {},
     "output_type": "execute_result"
    },
    {
     "data": {
      "image/png": "[encoded data removed]",
      "text/plain": [
       "<Figure size 640x480 with 1 Axes>"
      ]
     },
     "metadata": {},
     "output_type": "display_data"
    }
   ],
   "source": [
    "X = data[:,0]\n",
    "Y = data[:,1]\n",
    "plt.xlabel(\"Area\")\n",
    "plt.ylabel(\"Price\")\n",
    "plt.scatter(X,Y)\n"
   ]
  },
  {
   "cell_type": "markdown",
   "metadata": {},
   "source": [
    "### **Mục tiêu**\n",
    "Trên các điểm xanh là những điểm trong data, và ví dụ trong data, có thêm những điểm chưa dc học, nhưng có cùng phân phối với data đã học\n",
    "\n",
    "![Alt text](image.png)\n",
    "\n",
    "Qua đó, ta nhận thức được rằng, cần kiếm đường thẳng dựa trên những data xanh dương đã học, và có thể đoán được data màu đỏ.\n",
    "\n",
    "![Alt text](image-1.png)"
   ]
  },
  {
   "cell_type": "markdown",
   "metadata": {},
   "source": [
    "### **Bài toán Linear Regression**\n",
    "Tìm đường thẳng qua các dữ liệu \n",
    "\n",
    "Ta có, phương trình đường thẳng với bài giá nhà như sau: \n",
    "![Alt text](image-8.png)\n",
    "\n",
    "Nhiệm vụ là phải tìm hai thông số **w** và **b** trong hình trên, để có thể vẽ ra đường thẳng"
   ]
  },
  {
   "cell_type": "markdown",
   "metadata": {},
   "source": [
    "### **3. Cách giải bài toán này bằng AI như thế nào?**"
   ]
  },
  {
   "cell_type": "markdown",
   "metadata": {},
   "source": [
    "1. Sẽ randomly hai thông số **w** và **b** đầu tiên\n",
    "2. Sau đó tính ra kết quả dự đoán của từng mẫu dữ liệu, ví dụ ta chọn ngẫu nhiên **w=0.1, b=2**: \n",
    "![Alt text](image-9.png)\n"
   ]
  },
  {
   "cell_type": "code",
   "execution_count": 57,
   "metadata": {},
   "outputs": [
    {
     "data": {
      "image/png": "[encoded data removed]",
      "text/plain": [
       "<Figure size 640x480 with 1 Axes>"
      ]
     },
     "metadata": {},
     "output_type": "display_data"
    }
   ],
   "source": [
    "# Khởi tạo w và b:\n",
    "w = 10\n",
    "b = 2\n",
    "# Vẽ đường thẳng lên với w và b khởi tạo\n",
    "def plotData(data,w,b):\n",
    "    X = data[:,0]\n",
    "    Y = data[:,1]\n",
    "    plt.scatter(X,Y)\n",
    "    x = np.linspace(-5, 5, 100)\n",
    "    y=w*x+b\n",
    "    plt.plot(x,y)\n",
    "    plt.show()\n",
    "\n",
    "plotData(data,w,b)"
   ]
  },
  {
   "cell_type": "code",
   "execution_count": 58,
   "metadata": {},
   "outputs": [
    {
     "name": "stdout",
     "output_type": "stream",
     "text": [
      "69.1\n"
     ]
    }
   ],
   "source": [
    "# Hàm tính prediction \n",
    "def computePredictedValue(area,w,b):\n",
    "    return w*area + b\n",
    "print(computePredictedValue(area=6.71, w=w, b=b))"
   ]
  },
  {
   "cell_type": "markdown",
   "metadata": {},
   "source": [
    "3. Tính hàm loss (error): là hàm sai số khi kết quả dự đoán với kết quả đúng\n",
    "![Alt text](image-10.png)\n",
    "\n",
    "Hỏi: Tại sao ta lại bậc 2 lên làm gì, thay vì chỉ trừ. \n",
    "\n",
    "Trả lời: Vì hàm bậc 2, ta có thể kiếm được giá trị tối ưu của độ sai số thấp nhất bằng cách dùng đạo hàm của phương trình trên và = 0\n",
    "\n",
    "Tìm giá trị cực hạn của hàm số y(x) bằng cách cho y(x)' = 0\n",
    "\n",
    "\n",
    "Mô tả: Ta có, x = predicted_value - real_price. Error = x^2\n",
    "![Alt text](image-11.png)\n"
   ]
  },
  {
   "cell_type": "code",
   "execution_count": 59,
   "metadata": {},
   "outputs": [
    {
     "name": "stdout",
     "output_type": "stream",
     "text": [
      "3597.6004\n",
      "Error= 3597.6004 X= 59.98\n"
     ]
    }
   ],
   "source": [
    "def error_function(area,w,b,correct_result):\n",
    "    return pow(( computePredictedValue(area,w,b) - correct_result ),2)\n",
    "print(error_function(area=6.71, w=w, b=b, correct_result=9.12))\n",
    "print(\"Error=\", error_function(area=6.71, w=w, b=b, correct_result=9.12), \n",
    "      \"X=\",(computePredictedValue(area=6.71, w=w, b=b) - 9.12))"
   ]
  },
  {
   "cell_type": "markdown",
   "metadata": {},
   "source": [
    "![Alt text](image-12.png)\n",
    "\n",
    "Giá trị của Error và X trên trục tọa độ"
   ]
  },
  {
   "cell_type": "markdown",
   "metadata": {},
   "source": [
    "4. Cập nhật lại tham số **w** và **b** (Gradient Descent)\n",
    "\n",
    "Nhưng vấn đề là máy tính không thể nào tự giải bài toán y'=0, cho nên ý tưởng là:\n",
    "- Ta sẽ tính đạo hàm của các biến cần update trên hàm số, nếu giá trị đạo hàm lớn, chứng tỏ biến đó cần cập nhật nhiều, không thì cập nhật ít.\n",
    "\n",
    "**Gradient Descent**:\n",
    "Gradient descent (suy giảm độ dốc) là thuật toán giúp tìm ra điểm cực tiểu trong một hàm số y, bằng cách tính đạo hàm của giá trị x trên hàm số y, và với giá trị đạo hàm đó sẽ nhân với một learning rate để điểm dần dịch chuyển lại cực tiểu\n",
    "\n",
    "![Alt text](image-14.png)\n",
    "\n",
    "\n",
    "Vậy thì thử bằng cách nào? \n",
    "\n",
    "1. Tính sai số của giá trị dự đoán hiện tại\n",
    "2. Tính giá trị đạo hàm của hàm số sai số đó trên hai tham số (w,b) \n",
    "3. Sử dụng learning_rate để cập nhật từ từ w,b:\n",
    "- w-=learning_rate* dao_ham_w_tren_error\n",
    "- b-=learning_rate* dao_ham_b_tren_error\n",
    "\n",
    "Vậy thì làm thế nào để tính đạo hàm của hàm số sai số trên w,b?\n",
    "\n",
    "Theo Chainrule: \n",
    "![Alt text](image-13.png)\n",
    "\n",
    "Trong bài này: \n",
    "- y: error\n",
    "- g: predicted_price\n",
    "\n",
    "![Alt text](image-15.png)\n"
   ]
  },
  {
   "cell_type": "markdown",
   "metadata": {},
   "source": [
    "y=f(x)=x^2 +2\n",
    "y'(3) = 2x =2*3=6\n",
    "\n"
   ]
  },
  {
   "cell_type": "code",
   "execution_count": 81,
   "metadata": {},
   "outputs": [
    {
     "name": "stdout",
     "output_type": "stream",
     "text": [
      "1.4582560505235687 -0.3357653587326723\n"
     ]
    }
   ],
   "source": [
    "learning_rate = 0.01\n",
    "def computeDerivative(area,w,b,correct_result,attr) :\n",
    "    if attr ==\"dao_ham_b\": # tìm đạo hàm của w:\n",
    "        return 2*computePredictedValue(area,w,b) - correct_result \n",
    "    if attr ==\"dao_ham_w\" : # find ka:\n",
    "        return 2*(computePredictedValue(area,w,b) - correct_result) * area\n",
    "\n",
    "dao_ham_b = computeDerivative(area=6.41, w=w, b=b, correct_result=9.12, attr=\"dao_ham_b\")\n",
    "dao_ham_w = computeDerivative(area=6.41, w=w, b=b, correct_result=9.12, attr=\"dao_ham_w\")\n",
    "\n",
    "b -= dao_ham_b * learning_rate\n",
    "w -= dao_ham_w * learning_rate\n",
    "\n",
    "print(w,b)\n"
   ]
  },
  {
   "cell_type": "code",
   "execution_count": 82,
   "metadata": {},
   "outputs": [
    {
     "data": {
      "text/plain": [
       "0.011738438560865495"
      ]
     },
     "execution_count": 82,
     "metadata": {},
     "output_type": "execute_result"
    }
   ],
   "source": [
    "error_function(area=6.41,w=w,b=b,correct_result=9.12)"
   ]
  },
  {
   "cell_type": "markdown",
   "metadata": {},
   "source": [
    "Ta so sánh error function sau khi cập nhật w, b thì thấy rằng số đã giảm xuống từ: \n",
    "41.59 -> 1.24. \n",
    "\n",
    "Chứng tỏ w, b dần đúng và đường thẳng ngày càng đi qua được các điểm dữ liệu"
   ]
  },
  {
   "cell_type": "code",
   "execution_count": 83,
   "metadata": {},
   "outputs": [
    {
     "data": {
      "image/png": "[encoded data removed]",
      "text/plain": [
       "<Figure size 640x480 with 1 Axes>"
      ]
     },
     "metadata": {},
     "output_type": "display_data"
    }
   ],
   "source": [
    "plotData(data,w,b)"
   ]
  },
  {
   "cell_type": "code",
   "execution_count": null,
   "metadata": {},
   "outputs": [],
   "source": []
  }
 ],
 "metadata": {
  "kernelspec": {
   "display_name": "test",
   "language": "python",
   "name": "python3"
  },
  "language_info": {
   "codemirror_mode": {
    "name": "ipython",
    "version": 3
   },
   "file_extension": ".py",
   "mimetype": "text/x-python",
   "name": "python",
   "nbconvert_exporter": "python",
   "pygments_lexer": "ipython3",
   "version": "3.10.11"
  },
  "orig_nbformat": 4
 },
 "nbformat": 4,
 "nbformat_minor": 2
}
